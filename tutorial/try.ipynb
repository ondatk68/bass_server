{
 "cells": [
  {
   "cell_type": "code",
   "execution_count": 1,
   "metadata": {},
   "outputs": [
    {
     "name": "stdout",
     "output_type": "stream",
     "text": [
      "C 100 16 [['C6', 4], ['C6', 4], ['D7', 4], ['D7', 4], ['Dm7', 4], ['G7', 4], ['C6', 4], ['Dm7', 2], ['G7', 2], ['C6', 4], ['C6', 4], ['D7', 4], ['D7', 4], ['Dm7', 4], ['G7', 4], ['C6', 4], ['Gm7', 2], ['C7', 2]]\n"
     ]
    }
   ],
   "source": [
    "import main_web\n",
    "\n",
    "key,bpm,length,chord=main_web.make_chord('../../sample4.txt')\n",
    "print(key, bpm, length, chord)\n",
    "chord_tone=main_web.make_chord_tone(chord)\n",
    "scale=main_web.make_scale(key)\n",
    "bassline=main_web.make_bassline(chord_tone,chord,scale)\n",
    "mid,mid_b=main_web.make_track(key, bpm, bassline, chord_tone,length)\n"
   ]
  },
  {
   "cell_type": "code",
   "execution_count": 4,
   "metadata": {},
   "outputs": [
    {
     "name": "stdout",
     "output_type": "stream",
     "text": [
      "C 120 16 [['C6', 4], ['C6', 4], ['D7', 4], ['D7', 4], ['Dm7', 4], ['G7', 4], ['C6', 4], ['Dm7', 2], ['G7', 2], ['C6', 4], ['C6', 4], ['D7', 4], ['D7', 4], ['Dm7', 4], ['G7', 4], ['C6', 4], ['Gm7', 2], ['C7', 2]]\n"
     ]
    },
    {
     "ename": "IndexError",
     "evalue": "list assignment index out of range",
     "output_type": "error",
     "traceback": [
      "\u001b[0;31m---------------------------------------------------------------------------\u001b[0m",
      "\u001b[0;31mIndexError\u001b[0m                                Traceback (most recent call last)",
      "\u001b[0;32m<ipython-input-4-a066478f95e9>\u001b[0m in \u001b[0;36m<module>\u001b[0;34m\u001b[0m\n\u001b[1;32m      3\u001b[0m \u001b[0mchord_tone\u001b[0m\u001b[0;34m=\u001b[0m\u001b[0mmain_web\u001b[0m\u001b[0;34m.\u001b[0m\u001b[0mmake_chord_tone\u001b[0m\u001b[0;34m(\u001b[0m\u001b[0mchord\u001b[0m\u001b[0;34m)\u001b[0m\u001b[0;34m\u001b[0m\u001b[0;34m\u001b[0m\u001b[0m\n\u001b[1;32m      4\u001b[0m \u001b[0mscale\u001b[0m\u001b[0;34m=\u001b[0m\u001b[0mmain_web\u001b[0m\u001b[0;34m.\u001b[0m\u001b[0mmake_scale\u001b[0m\u001b[0;34m(\u001b[0m\u001b[0mkey\u001b[0m\u001b[0;34m)\u001b[0m\u001b[0;34m\u001b[0m\u001b[0;34m\u001b[0m\u001b[0m\n\u001b[0;32m----> 5\u001b[0;31m \u001b[0mbassline\u001b[0m\u001b[0;34m=\u001b[0m\u001b[0mmain_web\u001b[0m\u001b[0;34m.\u001b[0m\u001b[0mmake_bassline\u001b[0m\u001b[0;34m(\u001b[0m\u001b[0mchord_tone\u001b[0m\u001b[0;34m,\u001b[0m\u001b[0mchord\u001b[0m\u001b[0;34m,\u001b[0m\u001b[0mscale\u001b[0m\u001b[0;34m)\u001b[0m\u001b[0;34m\u001b[0m\u001b[0;34m\u001b[0m\u001b[0m\n\u001b[0m\u001b[1;32m      6\u001b[0m \u001b[0mmid\u001b[0m\u001b[0;34m,\u001b[0m\u001b[0mmid_b\u001b[0m\u001b[0;34m=\u001b[0m\u001b[0mmain_web\u001b[0m\u001b[0;34m.\u001b[0m\u001b[0mmake_track\u001b[0m\u001b[0;34m(\u001b[0m\u001b[0mkey\u001b[0m\u001b[0;34m,\u001b[0m \u001b[0mbpm\u001b[0m\u001b[0;34m,\u001b[0m \u001b[0mbassline\u001b[0m\u001b[0;34m,\u001b[0m \u001b[0mchord_tone\u001b[0m\u001b[0;34m,\u001b[0m\u001b[0mlength\u001b[0m\u001b[0;34m)\u001b[0m\u001b[0;34m\u001b[0m\u001b[0;34m\u001b[0m\u001b[0m\n",
      "\u001b[0;32m~/Desktop/sigboost/2022_bass/flask/tutorial/main_web.py\u001b[0m in \u001b[0;36mmake_bassline\u001b[0;34m(chord_tone, chord, scale)\u001b[0m\n\u001b[1;32m    243\u001b[0m         \u001b[0;32melif\u001b[0m \u001b[0mi\u001b[0m\u001b[0;34m==\u001b[0m\u001b[0mlen\u001b[0m\u001b[0;34m(\u001b[0m\u001b[0mbassline\u001b[0m\u001b[0;34m)\u001b[0m\u001b[0;34m-\u001b[0m\u001b[0;36m1\u001b[0m\u001b[0;34m:\u001b[0m\u001b[0;34m\u001b[0m\u001b[0;34m\u001b[0m\u001b[0m\n\u001b[1;32m    244\u001b[0m             \u001b[0mbassline\u001b[0m\u001b[0;34m[\u001b[0m\u001b[0mi\u001b[0m\u001b[0;34m]\u001b[0m\u001b[0;34m[\u001b[0m\u001b[0;36m1\u001b[0m\u001b[0;34m]\u001b[0m\u001b[0;34m=\u001b[0m\u001b[0mrandom\u001b[0m\u001b[0;34m.\u001b[0m\u001b[0mchoice\u001b[0m\u001b[0;34m(\u001b[0m\u001b[0mchord_tone\u001b[0m\u001b[0;34m[\u001b[0m\u001b[0mi\u001b[0m\u001b[0;34m]\u001b[0m\u001b[0;34m)\u001b[0m\u001b[0;34m\u001b[0m\u001b[0;34m\u001b[0m\u001b[0m\n\u001b[0;32m--> 245\u001b[0;31m             \u001b[0mbassline\u001b[0m\u001b[0;34m[\u001b[0m\u001b[0mi\u001b[0m\u001b[0;34m]\u001b[0m\u001b[0;34m[\u001b[0m\u001b[0;36m2\u001b[0m\u001b[0;34m]\u001b[0m\u001b[0;34m=\u001b[0m\u001b[0mrandom\u001b[0m\u001b[0;34m.\u001b[0m\u001b[0mchoice\u001b[0m\u001b[0;34m(\u001b[0m\u001b[0mchord_tone\u001b[0m\u001b[0;34m[\u001b[0m\u001b[0mi\u001b[0m\u001b[0;34m]\u001b[0m\u001b[0;34m)\u001b[0m\u001b[0;34m\u001b[0m\u001b[0;34m\u001b[0m\u001b[0m\n\u001b[0m\u001b[1;32m    246\u001b[0m \u001b[0;34m\u001b[0m\u001b[0m\n\u001b[1;32m    247\u001b[0m \u001b[0;34m\u001b[0m\u001b[0m\n",
      "\u001b[0;31mIndexError\u001b[0m: list assignment index out of range"
     ]
    }
   ],
   "source": [
    "key,bpm,length,chord=main_web.make_chord('../../sample.txt')\n",
    "print(key, bpm, length, chord)\n",
    "chord_tone=main_web.make_chord_tone(chord)\n",
    "scale=main_web.make_scale(key)\n",
    "bassline=main_web.make_bassline(chord_tone,chord,scale)\n",
    "mid,mid_b=main_web.make_track(key, bpm, bassline, chord_tone,length)"
   ]
  },
  {
   "cell_type": "code",
   "execution_count": null,
   "metadata": {},
   "outputs": [],
   "source": []
  }
 ],
 "metadata": {
  "language_info": {
   "name": "python"
  },
  "orig_nbformat": 4
 },
 "nbformat": 4,
 "nbformat_minor": 2
}
